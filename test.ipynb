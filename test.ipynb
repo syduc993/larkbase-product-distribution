{
 "cells": [
  {
   "cell_type": "code",
   "execution_count": 3,
   "id": "cf78c3b0",
   "metadata": {},
   "outputs": [
    {
     "name": "stdout",
     "output_type": "stream",
     "text": [
      "Danh sách tài khoản ngân hàng và ID:\n",
      "ID: 16073 | Chủ TK: HOANG THI QUYNH ANH | Số TK: 0973232854\n",
      "ID: 16060 | Chủ TK: LE SY DUC | Số TK: 105876612812\n"
     ]
    }
   ],
   "source": [
    "import requests\n",
    "\n",
    "your_token = \"RZGSONTX9CMU5EEYECSJYL8D3NPLLLRJ40G6JWCUOUYKIZFKAGMENB9I5V78PMAT\"\n",
    "url = \"https://my.sepay.vn/userapi/bankaccounts/list\"\n",
    "\n",
    "headers = {\n",
    "    'Authorization': f'Bearer {your_token}',\n",
    "    'Accept': 'application/json'\n",
    "}\n",
    "\n",
    "response = requests.get(url, headers=headers)\n",
    "data = response.json()\n",
    "\n",
    "if data.get('status') == 200 and data.get('bankaccounts'):\n",
    "    print(\"Danh sách tài khoản ngân hàng và ID:\")\n",
    "    for acc in data['bankaccounts']:\n",
    "        print(f\"ID: {acc['id']} | Chủ TK: {acc['account_holder_name']} | Số TK: {acc['account_number']}\")\n",
    "else:\n",
    "    print(\"Không lấy được danh sách tài khoản.\")\n"
   ]
  },
  {
   "cell_type": "code",
   "execution_count": 4,
   "id": "a9ccfa0f",
   "metadata": {},
   "outputs": [
    {
     "name": "stdout",
     "output_type": "stream",
     "text": [
      "Số dư tài khoản 16073: 0.00 VND\n"
     ]
    }
   ],
   "source": [
    "import requests\n",
    "\n",
    "# ====== NHẬP THÔNG TIN Ở ĐÂY ======\n",
    "your_token = \"RZGSONTX9CMU5EEYECSJYL8D3NPLLLRJ40G6JWCUOUYKIZFKAGMENB9I5V78PMAT\"\n",
    "bank_account_id = 16073  # Thay đổi ID tài khoản ngân hàng bạn muốn lấy số dư\n",
    "url = f\"https://my.sepay.vn/userapi/bankaccounts/details/{bank_account_id}\"\n",
    "# ==================================\n",
    "\n",
    "headers = {\n",
    "    'Authorization': f'Bearer {your_token}',\n",
    "    'Accept': 'application/json'\n",
    "}\n",
    "\n",
    "response = requests.get(url, headers=headers)\n",
    "data = response.json()\n",
    "\n",
    "if data.get('status') == 200 and data.get('bankaccount'):\n",
    "    so_du = data['bankaccount']['accumulated']\n",
    "    print(f\"Số dư tài khoản {bank_account_id}: {so_du} VND\")\n",
    "else:\n",
    "    print(\"Không lấy được thông tin tài khoản.\")\n"
   ]
  },
  {
   "cell_type": "code",
   "execution_count": null,
   "id": "ea6a731b",
   "metadata": {},
   "outputs": [],
   "source": []
  }
 ],
 "metadata": {
  "kernelspec": {
   "display_name": "Python 3",
   "language": "python",
   "name": "python3"
  },
  "language_info": {
   "codemirror_mode": {
    "name": "ipython",
    "version": 3
   },
   "file_extension": ".py",
   "mimetype": "text/x-python",
   "name": "python",
   "nbconvert_exporter": "python",
   "pygments_lexer": "ipython3",
   "version": "3.13.3"
  }
 },
 "nbformat": 4,
 "nbformat_minor": 5
}
